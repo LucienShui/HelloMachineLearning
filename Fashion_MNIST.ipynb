{
  "nbformat": 4,
  "nbformat_minor": 0,
  "metadata": {
    "colab": {
      "name": "Fashion MNIST.ipynb",
      "version": "0.3.2",
      "provenance": [],
      "collapsed_sections": []
    },
    "kernelspec": {
      "name": "python3",
      "display_name": "Python 3"
    },
    "accelerator": "GPU"
  },
  "cells": [
    {
      "cell_type": "markdown",
      "metadata": {
        "id": "xTL9TjG1EcJp",
        "colab_type": "text"
      },
      "source": [
        "## Install and import dependencies"
      ]
    },
    {
      "cell_type": "markdown",
      "metadata": {
        "id": "g8eh2IFIX7DB",
        "colab_type": "text"
      },
      "source": [
        "[TensorFlow Datasets](https://www.tensorflow.org/datasets/), an API that simplifies downloading and accessing datasets, and provides several sample datasets to work with."
      ]
    },
    {
      "cell_type": "code",
      "metadata": {
        "id": "6F5yhs9tWLnB",
        "colab_type": "code",
        "outputId": "f7c2ac8b-ef61-4cbb-851c-5d4450192dcb",
        "colab": {
          "base_uri": "https://localhost:8080/",
          "height": 394
        }
      },
      "source": [
        "!pip install -U tensorflow_datasets"
      ],
      "execution_count": 1,
      "outputs": [
        {
          "output_type": "stream",
          "text": [
            "Requirement already up-to-date: tensorflow_datasets in /usr/local/lib/python3.6/dist-packages (1.1.0)\n",
            "Requirement already satisfied, skipping upgrade: tensorflow-metadata in /usr/local/lib/python3.6/dist-packages (from tensorflow_datasets) (0.14.0)\n",
            "Requirement already satisfied, skipping upgrade: requests>=2.19.0 in /usr/local/lib/python3.6/dist-packages (from tensorflow_datasets) (2.21.0)\n",
            "Requirement already satisfied, skipping upgrade: absl-py in /usr/local/lib/python3.6/dist-packages (from tensorflow_datasets) (0.7.1)\n",
            "Requirement already satisfied, skipping upgrade: attrs in /usr/local/lib/python3.6/dist-packages (from tensorflow_datasets) (19.1.0)\n",
            "Requirement already satisfied, skipping upgrade: promise in /usr/local/lib/python3.6/dist-packages (from tensorflow_datasets) (2.2.1)\n",
            "Requirement already satisfied, skipping upgrade: psutil in /usr/local/lib/python3.6/dist-packages (from tensorflow_datasets) (5.4.8)\n",
            "Requirement already satisfied, skipping upgrade: termcolor in /usr/local/lib/python3.6/dist-packages (from tensorflow_datasets) (1.1.0)\n",
            "Requirement already satisfied, skipping upgrade: tqdm in /usr/local/lib/python3.6/dist-packages (from tensorflow_datasets) (4.28.1)\n",
            "Requirement already satisfied, skipping upgrade: future in /usr/local/lib/python3.6/dist-packages (from tensorflow_datasets) (0.16.0)\n",
            "Requirement already satisfied, skipping upgrade: protobuf>=3.6.1 in /usr/local/lib/python3.6/dist-packages (from tensorflow_datasets) (3.7.1)\n",
            "Requirement already satisfied, skipping upgrade: wrapt in /usr/local/lib/python3.6/dist-packages (from tensorflow_datasets) (1.11.2)\n",
            "Requirement already satisfied, skipping upgrade: dill in /usr/local/lib/python3.6/dist-packages (from tensorflow_datasets) (0.3.0)\n",
            "Requirement already satisfied, skipping upgrade: six in /usr/local/lib/python3.6/dist-packages (from tensorflow_datasets) (1.12.0)\n",
            "Requirement already satisfied, skipping upgrade: numpy in /usr/local/lib/python3.6/dist-packages (from tensorflow_datasets) (1.16.4)\n",
            "Requirement already satisfied, skipping upgrade: googleapis-common-protos in /usr/local/lib/python3.6/dist-packages (from tensorflow-metadata->tensorflow_datasets) (1.6.0)\n",
            "Requirement already satisfied, skipping upgrade: urllib3<1.25,>=1.21.1 in /usr/local/lib/python3.6/dist-packages (from requests>=2.19.0->tensorflow_datasets) (1.24.3)\n",
            "Requirement already satisfied, skipping upgrade: chardet<3.1.0,>=3.0.2 in /usr/local/lib/python3.6/dist-packages (from requests>=2.19.0->tensorflow_datasets) (3.0.4)\n",
            "Requirement already satisfied, skipping upgrade: certifi>=2017.4.17 in /usr/local/lib/python3.6/dist-packages (from requests>=2.19.0->tensorflow_datasets) (2019.6.16)\n",
            "Requirement already satisfied, skipping upgrade: idna<2.9,>=2.5 in /usr/local/lib/python3.6/dist-packages (from requests>=2.19.0->tensorflow_datasets) (2.8)\n",
            "Requirement already satisfied, skipping upgrade: setuptools in /usr/local/lib/python3.6/dist-packages (from protobuf>=3.6.1->tensorflow_datasets) (41.0.1)\n"
          ],
          "name": "stdout"
        }
      ]
    },
    {
      "cell_type": "code",
      "metadata": {
        "id": "Egj2l7oqX6Sb",
        "colab_type": "code",
        "outputId": "8210dc0e-ffdf-44cc-8ecb-50d33f85dbce",
        "colab": {
          "base_uri": "https://localhost:8080/",
          "height": 170
        }
      },
      "source": [
        "import tensorflow as tf\n",
        "import tensorflow_datasets as tfds\n",
        "tfds.disable_progress_bar()"
      ],
      "execution_count": 2,
      "outputs": [
        {
          "output_type": "stream",
          "text": [
            "WARNING: Logging before flag parsing goes to stderr.\n",
            "W0728 03:35:07.161709 140100489693056 lazy_loader.py:50] \n",
            "The TensorFlow contrib module will not be included in TensorFlow 2.0.\n",
            "For more information, please see:\n",
            "  * https://github.com/tensorflow/community/blob/master/rfcs/20180907-contrib-sunset.md\n",
            "  * https://github.com/tensorflow/addons\n",
            "  * https://github.com/tensorflow/io (for I/O related ops)\n",
            "If you depend on functionality not listed there, please file an issue.\n",
            "\n"
          ],
          "name": "stderr"
        }
      ]
    },
    {
      "cell_type": "code",
      "metadata": {
        "id": "iUmyjK6tXrzc",
        "colab_type": "code",
        "colab": {}
      },
      "source": [
        "import math\n",
        "import numpy as np\n",
        "import matplotlib.pyplot as plt"
      ],
      "execution_count": 0,
      "outputs": []
    },
    {
      "cell_type": "code",
      "metadata": {
        "id": "Da7N3yIYY6dU",
        "colab_type": "code",
        "outputId": "d57ef3df-f59e-4f48-c257-6a0da8d7e5cb",
        "colab": {
          "base_uri": "https://localhost:8080/",
          "height": 34
        }
      },
      "source": [
        "print(tf.__version__)"
      ],
      "execution_count": 4,
      "outputs": [
        {
          "output_type": "stream",
          "text": [
            "1.14.0\n"
          ],
          "name": "stdout"
        }
      ]
    },
    {
      "cell_type": "code",
      "metadata": {
        "id": "Ab5-kSqwM-8P",
        "colab_type": "code",
        "colab": {}
      },
      "source": [
        "tf.enable_eager_execution()"
      ],
      "execution_count": 0,
      "outputs": []
    },
    {
      "cell_type": "code",
      "metadata": {
        "id": "HbZ2AS_6NON9",
        "colab_type": "code",
        "colab": {}
      },
      "source": [
        "import logging\n",
        "logger = tf.get_logger()\n",
        "logger.setLevel(logging.ERROR)"
      ],
      "execution_count": 0,
      "outputs": []
    },
    {
      "cell_type": "markdown",
      "metadata": {
        "id": "y13dS7clEt6H",
        "colab_type": "text"
      },
      "source": [
        "## Import the Fashion MNIST dataset"
      ]
    },
    {
      "cell_type": "code",
      "metadata": {
        "id": "ycz0FZIjNUrs",
        "colab_type": "code",
        "outputId": "eb8d897e-a909-454e-d3da-e9157648f60a",
        "colab": {
          "base_uri": "https://localhost:8080/",
          "height": 54
        }
      },
      "source": [
        "dataset, metadata = tfds.load('fashion_mnist', as_supervised=True, with_info=True)\n",
        "train_dataset, test_dataset = dataset['train'], dataset['test']"
      ],
      "execution_count": 7,
      "outputs": [
        {
          "output_type": "stream",
          "text": [
            "W0728 03:35:07.716748 140100489693056 dataset_builder.py:439] Warning: Setting shuffle_files=True because split=TRAIN and shuffle_files=None. This behavior will be deprecated on 2019-08-06, at which point shuffle_files=False will be the default for all splits.\n"
          ],
          "name": "stderr"
        }
      ]
    },
    {
      "cell_type": "code",
      "metadata": {
        "id": "OgvkyuVkTfhn",
        "colab_type": "code",
        "colab": {}
      },
      "source": [
        "class_names = ['T-shirt/top', 'Trouser', 'Pullover', 'Dress', 'Coat', \n",
        "               'Sandal',      'Shirt',   'Sneaker',  'Bag',   'Ankle boot']"
      ],
      "execution_count": 0,
      "outputs": []
    },
    {
      "cell_type": "markdown",
      "metadata": {
        "id": "1qJ6EL40E0sH",
        "colab_type": "text"
      },
      "source": [
        "### Explore the data"
      ]
    },
    {
      "cell_type": "code",
      "metadata": {
        "id": "znOVNMXAVDH_",
        "colab_type": "code",
        "outputId": "54979315-f349-4546-80cd-a3ee5f5081c2",
        "colab": {
          "base_uri": "https://localhost:8080/",
          "height": 51
        }
      },
      "source": [
        "num_train_examples = metadata.splits['train'].num_examples\n",
        "num_test_examples = metadata.splits['test'].num_examples\n",
        "print(\"Number of training examples: {}\".format(num_train_examples))\n",
        "print(\"Number of test examples: {}\".format(num_test_examples))"
      ],
      "execution_count": 9,
      "outputs": [
        {
          "output_type": "stream",
          "text": [
            "Number of training examples: 60000\n",
            "Number of test examples: 10000\n"
          ],
          "name": "stdout"
        }
      ]
    },
    {
      "cell_type": "markdown",
      "metadata": {
        "id": "MwMPM0y5E3QI",
        "colab_type": "text"
      },
      "source": [
        "## Preprocess the data"
      ]
    },
    {
      "cell_type": "code",
      "metadata": {
        "id": "4IYv7jSoVedc",
        "colab_type": "code",
        "colab": {}
      },
      "source": [
        "# Apply the normalization to each element in the train and test datasets\n",
        "def normalize(images, labels):\n",
        "    return tf.cast(images, tf.float32) / 255, labels\n",
        "\n",
        "train_dataset = train_dataset.map(normalize)\n",
        "test_dataset = test_dataset.map(normalize)"
      ],
      "execution_count": 0,
      "outputs": []
    },
    {
      "cell_type": "markdown",
      "metadata": {
        "id": "fzwD7ckaE6l2",
        "colab_type": "text"
      },
      "source": [
        "### Explore the precessed data"
      ]
    },
    {
      "cell_type": "code",
      "metadata": {
        "id": "Y4858f8y4W-B",
        "colab_type": "code",
        "outputId": "69560417-1f14-457d-e8f1-6dcff2dfc137",
        "colab": {
          "base_uri": "https://localhost:8080/",
          "height": 269
        }
      },
      "source": [
        "# Take a single image, and remove the color dimension by reshaping\n",
        "for image, label in test_dataset.take(1):\n",
        "    break\n",
        "image = image.numpy().reshape((28, 28))\n",
        "\n",
        "plt.figure()\n",
        "plt.imshow(image, cmap=plt.cm.binary)\n",
        "plt.colorbar()\n",
        "plt.grid(False)\n",
        "plt.show()"
      ],
      "execution_count": 11,
      "outputs": [
        {
          "output_type": "display_data",
          "data": {
            "image/png": "[encoded data removed]",
            "text/plain": [
              "<Figure size 432x288 with 2 Axes>"
            ]
          },
          "metadata": {
            "tags": []
          }
        }
      ]
    },
    {
      "cell_type": "code",
      "metadata": {
        "id": "69RdACMIDQto",
        "colab_type": "code",
        "outputId": "97c7c11f-ab5a-4387-9e7c-30afefa5e5f8",
        "colab": {
          "base_uri": "https://localhost:8080/",
          "height": 592
        }
      },
      "source": [
        "plt.figure(figsize=(10,10))\n",
        "i = 0\n",
        "for image, label in test_dataset.take(25):\n",
        "    image = image.numpy().reshape((28, 28))\n",
        "    plt.subplot(5, 5, i + 1)\n",
        "    plt.xticks([])\n",
        "    plt.yticks([])\n",
        "    plt.grid(False)\n",
        "    plt.imshow(image, cmap=plt.cm.binary)\n",
        "    plt.xlabel(class_names[label])\n",
        "    i += 1\n",
        "plt.show()"
      ],
      "execution_count": 12,
      "outputs": [
        {
          "output_type": "display_data",
          "data": {
            "image/png": "[encoded data removed]",
            "text/plain": [
              "<Figure size 720x720 with 25 Axes>"
            ]
          },
          "metadata": {
            "tags": []
          }
        }
      ]
    },
    {
      "cell_type": "markdown",
      "metadata": {
        "id": "CN2qbic6FCsP",
        "colab_type": "text"
      },
      "source": [
        "## Build the model\n",
        "\n",
        "Building the neural network requires configuring the layers of the model, then compiling the model."
      ]
    },
    {
      "cell_type": "markdown",
      "metadata": {
        "id": "rBzLxw-PETlL",
        "colab_type": "text"
      },
      "source": [
        "### Setup the Layers"
      ]
    },
    {
      "cell_type": "code",
      "metadata": {
        "id": "HHjqyVroEXky",
        "colab_type": "code",
        "colab": {}
      },
      "source": [
        "model = tf.keras.Sequential([\n",
        "    tf.keras.layers.Flatten(input_shape=(28, 28, 1)),\n",
        "    tf.keras.layers.Dense(128, activation=tf.nn.relu),\n",
        "    tf.keras.layers.Dense(10, activation=tf.nn.softmax)\n",
        "])"
      ],
      "execution_count": 0,
      "outputs": []
    },
    {
      "cell_type": "markdown",
      "metadata": {
        "id": "YDIHDVdJFoa0",
        "colab_type": "text"
      },
      "source": [
        "### Compile the model\n",
        "\n",
        "Before the model is ready for traning, it needs a few more settings.\n",
        "\n",
        "+ Loss function\n",
        "+ Optimizer\n",
        "+ Metrics - Used to monitor the traning and testing steps."
      ]
    },
    {
      "cell_type": "code",
      "metadata": {
        "id": "cgf3N1mOF6Gz",
        "colab_type": "code",
        "colab": {}
      },
      "source": [
        "model.compile(optimizer='adam',\n",
        "              loss='sparse_categorical_crossentropy',\n",
        "              metrics=['accuracy'])"
      ],
      "execution_count": 0,
      "outputs": []
    },
    {
      "cell_type": "markdown",
      "metadata": {
        "id": "hPU-82NNGOOw",
        "colab_type": "text"
      },
      "source": [
        "## Train the model"
      ]
    },
    {
      "cell_type": "code",
      "metadata": {
        "id": "hGee2Kv0GRNf",
        "colab_type": "code",
        "colab": {}
      },
      "source": [
        "BATCH_SIZE = 32\n",
        "train_dataset = train_dataset.repeat().shuffle(num_train_examples).batch(BATCH_SIZE)\n",
        "test_dataset = test_dataset.batch(BATCH_SIZE)"
      ],
      "execution_count": 0,
      "outputs": []
    },
    {
      "cell_type": "code",
      "metadata": {
        "id": "59KIPKh7HSLS",
        "colab_type": "code",
        "outputId": "dcbe1bed-1211-461c-9c14-c7547bb4ca61",
        "colab": {
          "base_uri": "https://localhost:8080/",
          "height": 204
        }
      },
      "source": [
        "model.fit(train_dataset, epochs=5, steps_per_epoch=math.ceil(num_train_examples / BATCH_SIZE))"
      ],
      "execution_count": 16,
      "outputs": [
        {
          "output_type": "stream",
          "text": [
            "Epoch 1/5\n",
            "1875/1875 [==============================] - 23s 12ms/step - loss: 0.4925 - acc: 0.8263\n",
            "Epoch 2/5\n",
            "1875/1875 [==============================] - 15s 8ms/step - loss: 0.3763 - acc: 0.8642\n",
            "Epoch 3/5\n",
            "1875/1875 [==============================] - 15s 8ms/step - loss: 0.3348 - acc: 0.8772\n",
            "Epoch 4/5\n",
            "1875/1875 [==============================] - 15s 8ms/step - loss: 0.3059 - acc: 0.8872\n",
            "Epoch 5/5\n",
            "1875/1875 [==============================] - 15s 8ms/step - loss: 0.2942 - acc: 0.8907\n"
          ],
          "name": "stdout"
        },
        {
          "output_type": "execute_result",
          "data": {
            "text/plain": [
              "<tensorflow.python.keras.callbacks.History at 0x7f6b0617c2e8>"
            ]
          },
          "metadata": {
            "tags": []
          },
          "execution_count": 16
        }
      ]
    },
    {
      "cell_type": "markdown",
      "metadata": {
        "id": "TuYnWheMIeC7",
        "colab_type": "text"
      },
      "source": [
        "## Evaluate accuracy"
      ]
    },
    {
      "cell_type": "code",
      "metadata": {
        "id": "Agkgwy3fIhkT",
        "colab_type": "code",
        "outputId": "f11c5bcb-c037-4491-f1ac-f9fe5c5ed3f3",
        "colab": {
          "base_uri": "https://localhost:8080/",
          "height": 51
        }
      },
      "source": [
        "test_loss, test_accuracy = model.evaluate(test_dataset, steps=math.ceil(num_test_examples / 32))\n",
        "print(\"Accuracy on test dataset: \", test_accuracy)"
      ],
      "execution_count": 17,
      "outputs": [
        {
          "output_type": "stream",
          "text": [
            "313/313 [==============================] - 2s 6ms/step - loss: 0.3483 - acc: 0.8769\n",
            "Accuracy on test dataset:  0.8769\n"
          ],
          "name": "stdout"
        }
      ]
    },
    {
      "cell_type": "markdown",
      "metadata": {
        "id": "Fp1rm-b7Iwwa",
        "colab_type": "text"
      },
      "source": [
        "## Make predictions and explore"
      ]
    },
    {
      "cell_type": "code",
      "metadata": {
        "id": "StlWfKuOIznU",
        "colab_type": "code",
        "colab": {}
      },
      "source": [
        "for test_images, test_labels in test_dataset.take(1):\n",
        "    test_images = test_images.numpy()\n",
        "    test_labels = test_labels.numpy()\n",
        "    predictions = model.predict(test_images)"
      ],
      "execution_count": 0,
      "outputs": []
    },
    {
      "cell_type": "code",
      "metadata": {
        "id": "h2m-FlCsJZvP",
        "colab_type": "code",
        "outputId": "03694101-a93f-4f34-df63-cc3aa0ffa1d4",
        "colab": {
          "base_uri": "https://localhost:8080/",
          "height": 34
        }
      },
      "source": [
        "predictions.shape"
      ],
      "execution_count": 19,
      "outputs": [
        {
          "output_type": "execute_result",
          "data": {
            "text/plain": [
              "(32, 10)"
            ]
          },
          "metadata": {
            "tags": []
          },
          "execution_count": 19
        }
      ]
    },
    {
      "cell_type": "code",
      "metadata": {
        "id": "SP6v0S_iJc4X",
        "colab_type": "code",
        "outputId": "646084f6-a017-4435-ab5b-6b8040f8a7c0",
        "colab": {
          "base_uri": "https://localhost:8080/",
          "height": 68
        }
      },
      "source": [
        "predictions[0]"
      ],
      "execution_count": 20,
      "outputs": [
        {
          "output_type": "execute_result",
          "data": {
            "text/plain": [
              "array([1.55890739e-05, 1.10657524e-07, 1.77148581e-02, 2.77946790e-04,\n",
              "       2.74867445e-01, 2.68677724e-07, 7.07111895e-01, 2.86402813e-09,\n",
              "       1.18842463e-05, 8.02217903e-10], dtype=float32)"
            ]
          },
          "metadata": {
            "tags": []
          },
          "execution_count": 20
        }
      ]
    },
    {
      "cell_type": "code",
      "metadata": {
        "id": "_3otkIt5JoEv",
        "colab_type": "code",
        "outputId": "702c8dbf-f50b-4478-9c29-5a7c2d77a935",
        "colab": {
          "base_uri": "https://localhost:8080/",
          "height": 34
        }
      },
      "source": [
        "print(np.argmax(predictions[0]) == test_labels[0])"
      ],
      "execution_count": 21,
      "outputs": [
        {
          "output_type": "stream",
          "text": [
            "True\n"
          ],
          "name": "stdout"
        }
      ]
    },
    {
      "cell_type": "code",
      "metadata": {
        "id": "PIMrI6emJ2st",
        "colab_type": "code",
        "colab": {}
      },
      "source": [
        "def plot_image(i, predictions_array, true_labels, images):\n",
        "    predictions_array, true_label, img = predictions_array[i], true_labels[i], images[i]\n",
        "    plt.grid(False)\n",
        "    plt.xticks([])\n",
        "    plt.yticks([])\n",
        "\n",
        "    plt.imshow(img[..., 0], cmap=plt.cm.binary)\n",
        "\n",
        "    predicted_label = np.argmax(predictions_array)\n",
        "    color = 'blue' if predicted_label == true_label else 'red'\n",
        "\n",
        "    plt.xlabel(\"{} {:2.0f}% ({})\".format(class_names[predicted_label],\n",
        "                                         100 * np.max(predictions_array),\n",
        "                                         class_names[true_label]),\n",
        "               color = color)"
      ],
      "execution_count": 0,
      "outputs": []
    },
    {
      "cell_type": "code",
      "metadata": {
        "id": "VMiuxBBkLESd",
        "colab_type": "code",
        "colab": {}
      },
      "source": [
        "def plot_value_array(i, predictions_array, true_label):\n",
        "    predictions_array, true_label = predictions_array[i], true_label[i]\n",
        "    plt.grid(False)\n",
        "    plt.xticks([])\n",
        "    plt.yticks([])\n",
        "    this_plot = plt.bar(range(10), predictions_array, color=\"#777777\")\n",
        "    plt.ylim([0, 1])\n",
        "    predicted_label = np.argmax(predictions_array)\n",
        "\n",
        "    this_plot[predicted_label].set_color('red')\n",
        "    this_plot[true_label].set_color('blue')"
      ],
      "execution_count": 0,
      "outputs": []
    },
    {
      "cell_type": "code",
      "metadata": {
        "id": "EPkvGsrYN4Sk",
        "colab_type": "code",
        "outputId": "456f5bb5-0704-43c2-f812-db6861d6d2a4",
        "colab": {
          "base_uri": "https://localhost:8080/",
          "height": 206
        }
      },
      "source": [
        "i = 0\n",
        "plt.figure(figsize=(6, 3))\n",
        "plt.subplot(1, 2, 1)\n",
        "plot_image(i, predictions, test_labels, test_images)\n",
        "plt.subplot(1, 2, 2)\n",
        "plot_value_array(i, predictions, test_labels)"
      ],
      "execution_count": 24,
      "outputs": [
        {
          "output_type": "display_data",
          "data": {
            "image/png": "[encoded data removed]",
            "text/plain": [
              "<Figure size 432x216 with 2 Axes>"
            ]
          },
          "metadata": {
            "tags": []
          }
        }
      ]
    },
    {
      "cell_type": "code",
      "metadata": {
        "id": "iZULYzVgOHXt",
        "colab_type": "code",
        "outputId": "d28fa005-4c6c-47b0-8f7f-696045d63c07",
        "colab": {
          "base_uri": "https://localhost:8080/",
          "height": 206
        }
      },
      "source": [
        "i = 12\n",
        "plt.figure(figsize=(6, 3))\n",
        "plt.subplot(1, 2, 1)\n",
        "plot_image(i, predictions, test_labels, test_images)\n",
        "plt.subplot(1, 2, 2)\n",
        "plot_value_array(i, predictions, test_labels)"
      ],
      "execution_count": 25,
      "outputs": [
        {
          "output_type": "display_data",
          "data": {
            "image/png": "[encoded data removed]",
            "text/plain": [
              "<Figure size 432x216 with 2 Axes>"
            ]
          },
          "metadata": {
            "tags": []
          }
        }
      ]
    },
    {
      "cell_type": "code",
      "metadata": {
        "id": "mCX035MwOVx_",
        "colab_type": "code",
        "outputId": "19873428-6a7c-4964-82ac-a444d065b60c",
        "colab": {
          "base_uri": "https://localhost:8080/",
          "height": 592
        }
      },
      "source": [
        "# Plot the first X test images, their predicted label, and the true label\n",
        "# Color correct predictions in blue, incorrect predictions in red\n",
        "num_rows = 5\n",
        "num_cols = 3\n",
        "num_images = num_rows * num_cols\n",
        "plt.figure(figsize=(num_cols << 2, num_rows << 1))\n",
        "for i in range(num_images):\n",
        "    plt.subplot(num_rows, num_cols << 1, i << 1 | 1)\n",
        "    plot_image(i, predictions, test_labels, test_images)\n",
        "    plt.subplot(num_rows, num_cols << 1, (i << 1) + 2)\n",
        "    plot_value_array(i, predictions, test_labels)"
      ],
      "execution_count": 26,
      "outputs": [
        {
          "output_type": "display_data",
          "data": {
            "image/png": "[encoded data removed]",
            "text/plain": [
              "<Figure size 864x720 with 30 Axes>"
            ]
          },
          "metadata": {
            "tags": []
          }
        }
      ]
    },
    {
      "cell_type": "markdown",
      "metadata": {
        "id": "Tiptn_TgPNo5",
        "colab_type": "text"
      },
      "source": [
        "Finally, we can use the trained model to make a prediction about a single image."
      ]
    },
    {
      "cell_type": "code",
      "metadata": {
        "id": "rcOOPbfd1GU7",
        "colab_type": "code",
        "colab": {}
      },
      "source": [
        "def show_single_image(img):\n",
        "    plt.figure()\n",
        "    plt.imshow(img.reshape((28, 28)), cmap=plt.cm.binary)\n",
        "    plt.colorbar()\n",
        "    plt.grid(False)\n",
        "    plt.show()"
      ],
      "execution_count": 0,
      "outputs": []
    },
    {
      "cell_type": "code",
      "metadata": {
        "id": "jCnS9P7Hyz43",
        "colab_type": "code",
        "outputId": "7a0eab25-9eb6-4cc1-82d2-a0b3d84528fb",
        "colab": {
          "base_uri": "https://localhost:8080/",
          "height": 303
        }
      },
      "source": [
        "import random\n",
        "idx = random.randint(0, 32 - 1) # Make a random selection\n",
        "img = test_images[idx]\n",
        "ans_label = test_labels[idx]\n",
        "print(img.shape)\n",
        "show_single_image(img)\n",
        "print(class_names[ans_label])"
      ],
      "execution_count": 28,
      "outputs": [
        {
          "output_type": "stream",
          "text": [
            "(28, 28, 1)\n"
          ],
          "name": "stdout"
        },
        {
          "output_type": "display_data",
          "data": {
            "image/png": "[encoded data removed]",
            "text/plain": [
              "<Figure size 432x288 with 2 Axes>"
            ]
          },
          "metadata": {
            "tags": []
          }
        },
        {
          "output_type": "stream",
          "text": [
            "Ankle boot\n"
          ],
          "name": "stdout"
        }
      ]
    },
    {
      "cell_type": "code",
      "metadata": {
        "id": "lBCI2Qd33tTc",
        "colab_type": "code",
        "outputId": "c98bbb67-fbe5-4e6a-9566-def7de68613f",
        "colab": {
          "base_uri": "https://localhost:8080/",
          "height": 34
        }
      },
      "source": [
        "# Add the image to a batch where it's the only member.\n",
        "img = np.array([img])\n",
        "print(img.shape)"
      ],
      "execution_count": 29,
      "outputs": [
        {
          "output_type": "stream",
          "text": [
            "(1, 28, 28, 1)\n"
          ],
          "name": "stdout"
        }
      ]
    },
    {
      "cell_type": "markdown",
      "metadata": {
        "id": "PC6jz3cO4fVc",
        "colab_type": "text"
      },
      "source": [
        "Now predict the image"
      ]
    },
    {
      "cell_type": "code",
      "metadata": {
        "id": "Dy6OYzpC3_Ra",
        "colab_type": "code",
        "outputId": "7ca14ba7-9182-48cb-b3a7-364e85b442ef",
        "colab": {
          "base_uri": "https://localhost:8080/",
          "height": 102
        }
      },
      "source": [
        "predictions_single = model.predict(img)\n",
        "print(predictions_single)\n",
        "ans = np.argmax(predictions_single[0])\n",
        "print(\"Prediction:\", class_names[ans], \"\\nLabel:\", class_names[ans_label], \"\\nResult:\", ans == ans_label)"
      ],
      "execution_count": 30,
      "outputs": [
        {
          "output_type": "stream",
          "text": [
            "[[9.1834830e-13 2.8309247e-12 3.8025728e-12 2.0203681e-11 2.6180111e-13\n",
            "  3.6823465e-07 1.4999288e-13 1.4324978e-06 7.9855293e-15 9.9999821e-01]]\n",
            "Prediction: Ankle boot \n",
            "Label: Ankle boot \n",
            "Result: True\n"
          ],
          "name": "stdout"
        }
      ]
    },
    {
      "cell_type": "code",
      "metadata": {
        "id": "TNI7hpcG6OUG",
        "colab_type": "code",
        "outputId": "effb7447-980a-4f18-d48e-66f395d83ed1",
        "colab": {
          "base_uri": "https://localhost:8080/",
          "height": 304
        }
      },
      "source": [
        "plot_value_array(0, predictions_single, np.array([ans_label]))\n",
        "_ = plt.xticks(range(10), class_names, rotation=45)"
      ],
      "execution_count": 31,
      "outputs": [
        {
          "output_type": "display_data",
          "data": {
            "image/png": "[encoded data removed]",
            "text/plain": [
              "<Figure size 432x288 with 1 Axes>"
            ]
          },
          "metadata": {
            "tags": []
          }
        }
      ]
    },
    {
      "cell_type": "markdown",
      "metadata": {
        "id": "qhCzwzzz6nt8",
        "colab_type": "text"
      },
      "source": [
        "# Exercises\n",
        " \n",
        "Experiment with different models and see how the accuracy results differ. In particular change the following parameters:\n",
        "*   Set training epochs set to 1\n",
        "*   Number of neurons in the Dense layer following the Flatten one. For example, go really low (e.g. 10) in ranges up to 512 and see how accuracy changes\n",
        "*   Add additional Dense layers between the Flatten and the final Dense(10,  activation=tf.nn.softmax), experiment with different units in these layers\n",
        "*   Don't normalize the pixel values, and see the effect that has\n",
        " \n",
        " \n",
        "Remember to enable GPU to make everything run faster (Runtime -> Change runtime type -> Hardware accelerator -> GPU).\n",
        "Also, if you run into trouble, simply reset the entire environment and start from the beginning:\n",
        "*   Edit -> Clear all outputs\n",
        "*   Runtime -> Reset all runtimes\n"
      ]
    },
    {
      "cell_type": "markdown",
      "metadata": {
        "id": "A0cP3E3x97D6",
        "colab_type": "text"
      },
      "source": [
        "### Set training epochs set to 1"
      ]
    },
    {
      "cell_type": "code",
      "metadata": {
        "id": "_68fr6--7q-O",
        "colab_type": "code",
        "outputId": "daac25fb-2b55-4d6f-e00a-ee992be5671a",
        "colab": {
          "base_uri": "https://localhost:8080/",
          "height": 68
        }
      },
      "source": [
        "# Define a new model and train & test it\n",
        "temporary_model = tf.keras.Sequential([\n",
        "    tf.keras.layers.Flatten(input_shape=(28, 28, 1)),\n",
        "    tf.keras.layers.Dense(128, activation=tf.nn.relu),\n",
        "    tf.keras.layers.Dense(10, activation=tf.nn.softmax)\n",
        "])\n",
        "\n",
        "temporary_model.compile(optimizer='adam',\n",
        "              loss='sparse_categorical_crossentropy',\n",
        "              metrics=['accuracy'])\n",
        "\n",
        "temporary_model.fit(train_dataset, epochs=1, steps_per_epoch=math.ceil(num_train_examples / BATCH_SIZE))\n",
        "\n",
        "test_loss, test_accuracy = temporary_model.evaluate(test_dataset, steps=math.ceil(num_test_examples / 32))\n",
        "print(\"Accuracy on test dataset: \", test_accuracy)"
      ],
      "execution_count": 32,
      "outputs": [
        {
          "output_type": "stream",
          "text": [
            "1875/1875 [==============================] - 22s 12ms/step - loss: 0.4953 - acc: 0.8276\n",
            "313/313 [==============================] - 2s 6ms/step - loss: 0.4360 - acc: 0.8433\n",
            "Accuracy on test dataset:  0.8433\n"
          ],
          "name": "stdout"
        }
      ]
    },
    {
      "cell_type": "markdown",
      "metadata": {
        "id": "bj07rpx0-f_m",
        "colab_type": "text"
      },
      "source": [
        "### Number of neurons in the Dense layer following the Flatten one.\n",
        "\n",
        "For example, go really low (e.g. 10) in ranges up to 512 and see how accuracy changes"
      ]
    },
    {
      "cell_type": "code",
      "metadata": {
        "id": "FaxmZtTl_Civ",
        "colab_type": "code",
        "outputId": "a3a60a90-4ad3-40a3-a85e-005d8d68a8b9",
        "colab": {
          "base_uri": "https://localhost:8080/",
          "height": 221
        }
      },
      "source": [
        "# Define a new model and train & test it\n",
        "# 10\n",
        "temporary_model = tf.keras.Sequential([\n",
        "    tf.keras.layers.Flatten(input_shape=(28, 28, 1)),\n",
        "    tf.keras.layers.Dense(10, activation=tf.nn.relu),\n",
        "    tf.keras.layers.Dense(10, activation=tf.nn.softmax)\n",
        "])\n",
        "\n",
        "temporary_model.compile(optimizer='adam',\n",
        "              loss='sparse_categorical_crossentropy',\n",
        "              metrics=['accuracy'])\n",
        "\n",
        "temporary_model.fit(train_dataset, epochs=5, steps_per_epoch=math.ceil(num_train_examples / BATCH_SIZE))\n",
        "\n",
        "test_loss, test_accuracy = temporary_model.evaluate(test_dataset, steps=math.ceil(num_test_examples / 32))\n",
        "print(\"Accuracy on test dataset: \", test_accuracy)"
      ],
      "execution_count": 33,
      "outputs": [
        {
          "output_type": "stream",
          "text": [
            "Epoch 1/5\n",
            "1875/1875 [==============================] - 22s 12ms/step - loss: 0.6918 - acc: 0.7647\n",
            "Epoch 2/5\n",
            "1875/1875 [==============================] - 14s 8ms/step - loss: 0.4812 - acc: 0.8301\n",
            "Epoch 3/5\n",
            "1875/1875 [==============================] - 14s 8ms/step - loss: 0.4445 - acc: 0.8439\n",
            "Epoch 4/5\n",
            "1875/1875 [==============================] - 15s 8ms/step - loss: 0.4218 - acc: 0.8540\n",
            "Epoch 5/5\n",
            "1875/1875 [==============================] - 15s 8ms/step - loss: 0.4103 - acc: 0.8549\n",
            "313/313 [==============================] - 2s 7ms/step - loss: 0.4597 - acc: 0.8372\n",
            "Accuracy on test dataset:  0.8372\n"
          ],
          "name": "stdout"
        }
      ]
    },
    {
      "cell_type": "code",
      "metadata": {
        "id": "0ra08aq1_MjL",
        "colab_type": "code",
        "outputId": "bf6020a2-5692-4434-9700-e1d9a56a181a",
        "colab": {
          "base_uri": "https://localhost:8080/",
          "height": 221
        }
      },
      "source": [
        "# Define a new model and train & test it\n",
        "# 256\n",
        "temporary_model = tf.keras.Sequential([\n",
        "    tf.keras.layers.Flatten(input_shape=(28, 28, 1)),\n",
        "    tf.keras.layers.Dense(256, activation=tf.nn.relu),\n",
        "    tf.keras.layers.Dense(10, activation=tf.nn.softmax)\n",
        "])\n",
        "\n",
        "temporary_model.compile(optimizer='adam',\n",
        "              loss='sparse_categorical_crossentropy',\n",
        "              metrics=['accuracy'])\n",
        "\n",
        "temporary_model.fit(train_dataset, epochs=5, steps_per_epoch=math.ceil(num_train_examples / BATCH_SIZE))\n",
        "\n",
        "test_loss, test_accuracy = temporary_model.evaluate(test_dataset, steps=math.ceil(num_test_examples / 32))\n",
        "print(\"Accuracy on test dataset: \", test_accuracy)"
      ],
      "execution_count": 34,
      "outputs": [
        {
          "output_type": "stream",
          "text": [
            "Epoch 1/5\n",
            "1875/1875 [==============================] - 23s 12ms/step - loss: 0.4780 - acc: 0.8323\n",
            "Epoch 2/5\n",
            "1875/1875 [==============================] - 15s 8ms/step - loss: 0.3628 - acc: 0.8690\n",
            "Epoch 3/5\n",
            "1875/1875 [==============================] - 14s 8ms/step - loss: 0.3239 - acc: 0.8816\n",
            "Epoch 4/5\n",
            "1875/1875 [==============================] - 14s 8ms/step - loss: 0.2992 - acc: 0.8897\n",
            "Epoch 5/5\n",
            "1875/1875 [==============================] - 15s 8ms/step - loss: 0.2841 - acc: 0.8935\n",
            "313/313 [==============================] - 2s 6ms/step - loss: 0.3404 - acc: 0.8767\n",
            "Accuracy on test dataset:  0.8767\n"
          ],
          "name": "stdout"
        }
      ]
    },
    {
      "cell_type": "code",
      "metadata": {
        "id": "q8T5zkIE_O3j",
        "colab_type": "code",
        "outputId": "a1d06efd-a74e-4ed3-e051-8d92bd3611b5",
        "colab": {
          "base_uri": "https://localhost:8080/",
          "height": 221
        }
      },
      "source": [
        "# Define a new model and train & test it\n",
        "# 512\n",
        "temporary_model = tf.keras.Sequential([\n",
        "    tf.keras.layers.Flatten(input_shape=(28, 28, 1)),\n",
        "    tf.keras.layers.Dense(512, activation=tf.nn.relu),\n",
        "    tf.keras.layers.Dense(10, activation=tf.nn.softmax)\n",
        "])\n",
        "\n",
        "temporary_model.compile(optimizer='adam',\n",
        "              loss='sparse_categorical_crossentropy',\n",
        "              metrics=['accuracy'])\n",
        "\n",
        "temporary_model.fit(train_dataset, epochs=5, steps_per_epoch=math.ceil(num_train_examples / BATCH_SIZE))\n",
        "\n",
        "test_loss, test_accuracy = temporary_model.evaluate(test_dataset, steps=math.ceil(num_test_examples / 32))\n",
        "print(\"Accuracy on test dataset: \", test_accuracy)"
      ],
      "execution_count": 35,
      "outputs": [
        {
          "output_type": "stream",
          "text": [
            "Epoch 1/5\n",
            "1875/1875 [==============================] - 22s 12ms/step - loss: 0.4644 - acc: 0.8355\n",
            "Epoch 2/5\n",
            "1875/1875 [==============================] - 14s 8ms/step - loss: 0.3555 - acc: 0.8709\n",
            "Epoch 3/5\n",
            "1875/1875 [==============================] - 14s 8ms/step - loss: 0.3214 - acc: 0.8827\n",
            "Epoch 4/5\n",
            "1875/1875 [==============================] - 14s 8ms/step - loss: 0.2916 - acc: 0.8913\n",
            "Epoch 5/5\n",
            "1875/1875 [==============================] - 14s 8ms/step - loss: 0.2820 - acc: 0.8949\n",
            "313/313 [==============================] - 2s 6ms/step - loss: 0.3385 - acc: 0.8807\n",
            "Accuracy on test dataset:  0.8807\n"
          ],
          "name": "stdout"
        }
      ]
    },
    {
      "cell_type": "markdown",
      "metadata": {
        "id": "1qYPCnafA14V",
        "colab_type": "text"
      },
      "source": [
        "### Add additional Dense layers between the Flatten and the final Dense"
      ]
    },
    {
      "cell_type": "code",
      "metadata": {
        "id": "AYAsW3zMA3kj",
        "colab_type": "code",
        "outputId": "fc342681-a44f-4ecf-d134-79ad3ee5fc38",
        "colab": {
          "base_uri": "https://localhost:8080/",
          "height": 221
        }
      },
      "source": [
        "# Define a new model and train & test it\n",
        "# 1 Additional Dense layers\n",
        "temporary_model = tf.keras.Sequential([\n",
        "    tf.keras.layers.Flatten(input_shape=(28, 28, 1)),\n",
        "    tf.keras.layers.Dense(128, activation=tf.nn.relu),\n",
        "    tf.keras.layers.Dense(128, activation=tf.nn.relu),\n",
        "    tf.keras.layers.Dense(10, activation=tf.nn.softmax)\n",
        "])\n",
        "\n",
        "temporary_model.compile(optimizer='adam',\n",
        "              loss='sparse_categorical_crossentropy',\n",
        "              metrics=['accuracy'])\n",
        "\n",
        "temporary_model.fit(train_dataset, epochs=5, steps_per_epoch=math.ceil(num_train_examples / BATCH_SIZE))\n",
        "\n",
        "test_loss, test_accuracy = temporary_model.evaluate(test_dataset, steps=math.ceil(num_test_examples / 32))\n",
        "print(\"Accuracy on test dataset: \", test_accuracy)"
      ],
      "execution_count": 36,
      "outputs": [
        {
          "output_type": "stream",
          "text": [
            "Epoch 1/5\n",
            "1875/1875 [==============================] - 23s 12ms/step - loss: 0.4886 - acc: 0.8246\n",
            "Epoch 2/5\n",
            "1875/1875 [==============================] - 15s 8ms/step - loss: 0.3576 - acc: 0.8686\n",
            "Epoch 3/5\n",
            "1875/1875 [==============================] - 15s 8ms/step - loss: 0.3298 - acc: 0.8772\n",
            "Epoch 4/5\n",
            "1875/1875 [==============================] - 15s 8ms/step - loss: 0.3016 - acc: 0.8885\n",
            "Epoch 5/5\n",
            "1875/1875 [==============================] - 15s 8ms/step - loss: 0.2879 - acc: 0.8933\n",
            "313/313 [==============================] - 2s 7ms/step - loss: 0.3614 - acc: 0.8689\n",
            "Accuracy on test dataset:  0.8689\n"
          ],
          "name": "stdout"
        }
      ]
    },
    {
      "cell_type": "code",
      "metadata": {
        "id": "VA77XoYMBg6C",
        "colab_type": "code",
        "outputId": "b1e76e09-638f-4343-edb9-62d0018e147f",
        "colab": {
          "base_uri": "https://localhost:8080/",
          "height": 221
        }
      },
      "source": [
        "# Define a new model and train & test it\n",
        "# 2 Additional Dense layers\n",
        "temporary_model = tf.keras.Sequential([\n",
        "    tf.keras.layers.Flatten(input_shape=(28, 28, 1)),\n",
        "    tf.keras.layers.Dense(128, activation=tf.nn.relu),\n",
        "    tf.keras.layers.Dense(128, activation=tf.nn.relu),\n",
        "    tf.keras.layers.Dense(128, activation=tf.nn.relu),\n",
        "    tf.keras.layers.Dense(10, activation=tf.nn.softmax)\n",
        "])\n",
        "\n",
        "temporary_model.compile(optimizer='adam',\n",
        "              loss='sparse_categorical_crossentropy',\n",
        "              metrics=['accuracy'])\n",
        "\n",
        "temporary_model.fit(train_dataset, epochs=5, steps_per_epoch=math.ceil(num_train_examples / BATCH_SIZE))\n",
        "\n",
        "test_loss, test_accuracy = temporary_model.evaluate(test_dataset, steps=math.ceil(num_test_examples / 32))\n",
        "print(\"Accuracy on test dataset: \", test_accuracy)"
      ],
      "execution_count": 37,
      "outputs": [
        {
          "output_type": "stream",
          "text": [
            "Epoch 1/5\n",
            "1875/1875 [==============================] - 24s 13ms/step - loss: 0.4844 - acc: 0.8249\n",
            "Epoch 2/5\n",
            "1875/1875 [==============================] - 15s 8ms/step - loss: 0.3658 - acc: 0.8671\n",
            "Epoch 3/5\n",
            "1875/1875 [==============================] - 15s 8ms/step - loss: 0.3243 - acc: 0.8802\n",
            "Epoch 4/5\n",
            "1875/1875 [==============================] - 15s 8ms/step - loss: 0.3041 - acc: 0.8866\n",
            "Epoch 5/5\n",
            "1875/1875 [==============================] - 16s 8ms/step - loss: 0.2915 - acc: 0.8896\n",
            "313/313 [==============================] - 2s 7ms/step - loss: 0.3723 - acc: 0.8699\n",
            "Accuracy on test dataset:  0.8699\n"
          ],
          "name": "stdout"
        }
      ]
    },
    {
      "cell_type": "code",
      "metadata": {
        "id": "FjgodzpYLUH6",
        "colab_type": "code",
        "colab": {
          "base_uri": "https://localhost:8080/",
          "height": 221
        },
        "outputId": "7ff6b954-5a36-42d3-85b3-b16386449897"
      },
      "source": [
        "# Define a new model and train & test it\n",
        "# 3 Additional Dense layers\n",
        "temporary_model = tf.keras.Sequential([\n",
        "    tf.keras.layers.Flatten(input_shape=(28, 28, 1)),\n",
        "    tf.keras.layers.Dense(128, activation=tf.nn.relu),\n",
        "    tf.keras.layers.Dense(128, activation=tf.nn.relu),\n",
        "    tf.keras.layers.Dense(128, activation=tf.nn.relu),\n",
        "    tf.keras.layers.Dense(10, activation=tf.nn.softmax)\n",
        "])\n",
        "\n",
        "temporary_model.compile(optimizer='adam',\n",
        "              loss='sparse_categorical_crossentropy',\n",
        "              metrics=['accuracy'])\n",
        "\n",
        "temporary_model.fit(train_dataset, epochs=5, steps_per_epoch=math.ceil(num_train_examples / BATCH_SIZE))\n",
        "\n",
        "test_loss, test_accuracy = temporary_model.evaluate(test_dataset, steps=math.ceil(num_test_examples / 32))\n",
        "print(\"Accuracy on test dataset: \", test_accuracy)"
      ],
      "execution_count": 38,
      "outputs": [
        {
          "output_type": "stream",
          "text": [
            "Epoch 1/5\n",
            "1875/1875 [==============================] - 23s 13ms/step - loss: 0.4850 - acc: 0.8229\n",
            "Epoch 2/5\n",
            "1875/1875 [==============================] - 15s 8ms/step - loss: 0.3633 - acc: 0.8655\n",
            "Epoch 3/5\n",
            "1875/1875 [==============================] - 15s 8ms/step - loss: 0.3269 - acc: 0.8791\n",
            "Epoch 4/5\n",
            "1875/1875 [==============================] - 15s 8ms/step - loss: 0.3035 - acc: 0.8886\n",
            "Epoch 5/5\n",
            "1875/1875 [==============================] - 15s 8ms/step - loss: 0.2897 - acc: 0.8921\n",
            "313/313 [==============================] - 2s 7ms/step - loss: 0.3426 - acc: 0.8772\n",
            "Accuracy on test dataset:  0.8772\n"
          ],
          "name": "stdout"
        }
      ]
    },
    {
      "cell_type": "markdown",
      "metadata": {
        "id": "W_lDGKt2Pdy7",
        "colab_type": "text"
      },
      "source": [
        "### Don't normalize the pixel values"
      ]
    },
    {
      "cell_type": "code",
      "metadata": {
        "id": "r6W7j1y-PkMf",
        "colab_type": "code",
        "colab": {
          "base_uri": "https://localhost:8080/",
          "height": 340
        },
        "outputId": "e6c0a799-d7c6-4ef7-eafd-29e7faff7502"
      },
      "source": [
        "dataset, metadata = tfds.load('fashion_mnist', as_supervised=True, with_info=True)\n",
        "train_dataset, test_dataset = dataset['train'], dataset['test']\n",
        "\n",
        "num_train_examples = metadata.splits['train'].num_examples\n",
        "num_test_examples = metadata.splits['test'].num_examples\n",
        "print(\"Number of training examples: {}\".format(num_train_examples))\n",
        "print(\"Number of test examples: {}\".format(num_test_examples))\n",
        "\n",
        "\n",
        "# Take a single image, and remove the color dimension by reshaping\n",
        "for image, label in test_dataset.take(1):\n",
        "    break\n",
        "image = image.numpy().reshape((28, 28))\n",
        "\n",
        "plt.figure()\n",
        "plt.imshow(image, cmap=plt.cm.binary)\n",
        "plt.colorbar()\n",
        "plt.grid(False)\n",
        "plt.show()"
      ],
      "execution_count": 39,
      "outputs": [
        {
          "output_type": "stream",
          "text": [
            "W0728 03:45:28.236485 140100489693056 dataset_builder.py:439] Warning: Setting shuffle_files=True because split=TRAIN and shuffle_files=None. This behavior will be deprecated on 2019-08-06, at which point shuffle_files=False will be the default for all splits.\n"
          ],
          "name": "stderr"
        },
        {
          "output_type": "stream",
          "text": [
            "Number of training examples: 60000\n",
            "Number of test examples: 10000\n"
          ],
          "name": "stdout"
        },
        {
          "output_type": "display_data",
          "data": {
            "image/png": "[encoded data removed]",
            "text/plain": [
              "<Figure size 432x288 with 2 Axes>"
            ]
          },
          "metadata": {
            "tags": []
          }
        }
      ]
    },
    {
      "cell_type": "code",
      "metadata": {
        "id": "_gAihPi7QVnD",
        "colab_type": "code",
        "colab": {
          "base_uri": "https://localhost:8080/",
          "height": 221
        },
        "outputId": "6156e47d-331c-4e00-bf32-8e84e7ab2da4"
      },
      "source": [
        "model = tf.keras.Sequential([\n",
        "    tf.keras.layers.Flatten(input_shape=(28, 28, 1)),\n",
        "    tf.keras.layers.Dense(128, activation=tf.nn.relu),\n",
        "    tf.keras.layers.Dense(10, activation=tf.nn.softmax)\n",
        "])\n",
        "\n",
        "model.compile(optimizer='adam',\n",
        "              loss='sparse_categorical_crossentropy',\n",
        "              metrics=['accuracy'])\n",
        "\n",
        "BATCH_SIZE = 32\n",
        "train_dataset = train_dataset.repeat().shuffle(num_train_examples).batch(BATCH_SIZE)\n",
        "test_dataset = test_dataset.batch(BATCH_SIZE)\n",
        "\n",
        "model.fit(train_dataset, epochs=5, steps_per_epoch=math.ceil(num_train_examples / BATCH_SIZE))\n",
        "\n",
        "test_loss, test_accuracy = model.evaluate(test_dataset, steps=math.ceil(num_test_examples / 32))\n",
        "print(\"Accuracy on test dataset: \", test_accuracy)"
      ],
      "execution_count": 40,
      "outputs": [
        {
          "output_type": "stream",
          "text": [
            "Epoch 1/5\n",
            "1875/1875 [==============================] - 20s 11ms/step - loss: 12.8955 - acc: 0.1998\n",
            "Epoch 2/5\n",
            "1875/1875 [==============================] - 13s 7ms/step - loss: 12.9068 - acc: 0.1992\n",
            "Epoch 3/5\n",
            "1875/1875 [==============================] - 12s 7ms/step - loss: 14.3700 - acc: 0.1085\n",
            "Epoch 4/5\n",
            "1875/1875 [==============================] - 13s 7ms/step - loss: 14.4797 - acc: 0.1016\n",
            "Epoch 5/5\n",
            "1875/1875 [==============================] - 13s 7ms/step - loss: 14.5278 - acc: 0.0987\n",
            "313/313 [==============================] - 2s 6ms/step - loss: 14.5056 - acc: 0.1000\n",
            "Accuracy on test dataset:  0.1\n"
          ],
          "name": "stdout"
        }
      ]
    }
  ]
}