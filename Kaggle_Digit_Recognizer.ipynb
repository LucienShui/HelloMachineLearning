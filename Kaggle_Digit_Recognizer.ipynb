{
  "nbformat": 4,
  "nbformat_minor": 0,
  "metadata": {
    "colab": {
      "name": "Kaggle Digit Recognizer.ipynb",
      "version": "0.3.2",
      "provenance": [],
      "collapsed_sections": []
    },
    "kernelspec": {
      "name": "python3",
      "display_name": "Python 3"
    },
    "accelerator": "GPU"
  },
  "cells": [
    {
      "cell_type": "code",
      "metadata": {
        "id": "qdUfLyFyaOku",
        "colab_type": "code",
        "colab": {
          "base_uri": "https://localhost:8080/",
          "height": 153
        },
        "outputId": "933971de-9bef-4e23-8327-67c3a22f439a"
      },
      "source": [
        "!pip install keras"
      ],
      "execution_count": 1,
      "outputs": [
        {
          "output_type": "stream",
          "text": [
            "Requirement already satisfied: keras in /usr/local/lib/python3.6/dist-packages (2.2.5)\n",
            "Requirement already satisfied: scipy>=0.14 in /usr/local/lib/python3.6/dist-packages (from keras) (1.3.1)\n",
            "Requirement already satisfied: pyyaml in /usr/local/lib/python3.6/dist-packages (from keras) (3.13)\n",
            "Requirement already satisfied: keras-applications>=1.0.8 in /usr/local/lib/python3.6/dist-packages (from keras) (1.0.8)\n",
            "Requirement already satisfied: numpy>=1.9.1 in /usr/local/lib/python3.6/dist-packages (from keras) (1.16.4)\n",
            "Requirement already satisfied: h5py in /usr/local/lib/python3.6/dist-packages (from keras) (2.8.0)\n",
            "Requirement already satisfied: six>=1.9.0 in /usr/local/lib/python3.6/dist-packages (from keras) (1.12.0)\n",
            "Requirement already satisfied: keras-preprocessing>=1.1.0 in /usr/local/lib/python3.6/dist-packages (from keras) (1.1.0)\n"
          ],
          "name": "stdout"
        }
      ]
    },
    {
      "cell_type": "code",
      "metadata": {
        "id": "6edN76pMdClk",
        "colab_type": "code",
        "colab": {}
      },
      "source": [
        "import keras\n",
        "import numpy as np"
      ],
      "execution_count": 0,
      "outputs": []
    },
    {
      "cell_type": "code",
      "metadata": {
        "id": "INGHlsWidHCj",
        "colab_type": "code",
        "colab": {
          "base_uri": "https://localhost:8080/",
          "height": 71
        },
        "outputId": "373eb7bd-8e6b-4da0-ab95-7f8b36ada9c6"
      },
      "source": [
        "train_csv = keras.utils.get_file(\"train.csv\", \"https://storage.googleapis.com/kaggle-competitions-data/kaggle/3004/train.csv?GoogleAccessId=web-data@kaggle-161607.iam.gserviceaccount.com&Expires=1567930119&Signature=M2JUYLlGJ0U00wmbTkC10exgXhKLQ9OjBiaUqnFqa%2FYEgiq1NOZoMNEuIan1ctku%2F7NJMQ7qRCG9NFv9WndiGwf51mtutXP57bEsyFlXIME8HkTR388BPf4I3Xp%2FwrRD86p8nIZRFIBvEprIhzB6zX43KNLdXLp5LEASdthIgTqlfUEcQz0l7c%2BDLIFBqovtOHOWCMKmvtkt9cLp73iA07rrEiq%2FQS7GcTFIRg6tw6zv5WK51mqbxUH90VFEaVnvInpWArSsxvt0CnktMhleDxByrLz39IBotzJEJ%2FahDRMq%2Fw9z5%2FUVpOHswTCHOPTa0DJooaGk6bvx%2BdenKO%2BBFQ%3D%3D\")"
      ],
      "execution_count": 10,
      "outputs": [
        {
          "output_type": "stream",
          "text": [
            "Downloading data from https://storage.googleapis.com/kaggle-competitions-data/kaggle/3004/train.csv?GoogleAccessId=web-data@kaggle-161607.iam.gserviceaccount.com&Expires=1567930119&Signature=M2JUYLlGJ0U00wmbTkC10exgXhKLQ9OjBiaUqnFqa%2FYEgiq1NOZoMNEuIan1ctku%2F7NJMQ7qRCG9NFv9WndiGwf51mtutXP57bEsyFlXIME8HkTR388BPf4I3Xp%2FwrRD86p8nIZRFIBvEprIhzB6zX43KNLdXLp5LEASdthIgTqlfUEcQz0l7c%2BDLIFBqovtOHOWCMKmvtkt9cLp73iA07rrEiq%2FQS7GcTFIRg6tw6zv5WK51mqbxUH90VFEaVnvInpWArSsxvt0CnktMhleDxByrLz39IBotzJEJ%2FahDRMq%2Fw9z5%2FUVpOHswTCHOPTa0DJooaGk6bvx%2BdenKO%2BBFQ%3D%3D\n",
            "76775424/76775041 [==============================] - 2s 0us/step\n"
          ],
          "name": "stdout"
        }
      ]
    },
    {
      "cell_type": "code",
      "metadata": {
        "id": "x-8VEsGpeDRi",
        "colab_type": "code",
        "colab": {
          "base_uri": "https://localhost:8080/",
          "height": 34
        },
        "outputId": "8e4cf143-e02f-4091-ec71-74394817928a"
      },
      "source": [
        "!ls ~/.keras/datasets"
      ],
      "execution_count": 11,
      "outputs": [
        {
          "output_type": "stream",
          "text": [
            "train.csv\n"
          ],
          "name": "stdout"
        }
      ]
    },
    {
      "cell_type": "code",
      "metadata": {
        "id": "nFFhVrTaex7_",
        "colab_type": "code",
        "colab": {}
      },
      "source": [
        "csv_buffer = np.loadtxt(train_csv, dtype=np.str, delimiter=\",\")"
      ],
      "execution_count": 0,
      "outputs": []
    },
    {
      "cell_type": "code",
      "metadata": {
        "id": "yfI21YM6fuzu",
        "colab_type": "code",
        "colab": {}
      },
      "source": [
        "data = csv_buffer[1:,1:].astype(np.float) / 255\n",
        "label = csv_buffer[1:,0].astype(np.int)"
      ],
      "execution_count": 0,
      "outputs": []
    },
    {
      "cell_type": "code",
      "metadata": {
        "id": "lcW_P6fqgHcA",
        "colab_type": "code",
        "colab": {
          "base_uri": "https://localhost:8080/",
          "height": 34
        },
        "outputId": "934c1c5a-2276-465c-82bb-3b699fe74431"
      },
      "source": [
        "data[0,404]"
      ],
      "execution_count": 18,
      "outputs": [
        {
          "output_type": "execute_result",
          "data": {
            "text/plain": [
              "0.807843137254902"
            ]
          },
          "metadata": {
            "tags": []
          },
          "execution_count": 18
        }
      ]
    },
    {
      "cell_type": "code",
      "metadata": {
        "id": "fqmqQ7GDgXZB",
        "colab_type": "code",
        "colab": {}
      },
      "source": [
        ""
      ],
      "execution_count": 0,
      "outputs": []
    }
  ]
}